{
 "cells": [
  {
   "cell_type": "markdown",
   "id": "eab36922",
   "metadata": {},
   "source": [
    "# 🎯 Caro AI Trainer (Multi-Board Size)\n",
    "This notebook trains a neural network in PyTorch to play Caro (Tic-Tac-Toe variant) on variable board sizes (3x3 to 10x10), then exports the model to ONNX format for in-browser use."
   ]
  },
  {
   "cell_type": "code",
   "execution_count": 1,
   "id": "1fe1b5e3",
   "metadata": {},
   "outputs": [
    {
     "name": "stdout",
     "output_type": "stream",
     "text": [
      "Requirement already satisfied: torch in c:\\users\\asamai\\downloads\\boqudnhtan.github.io-main\\.conda\\lib\\site-packages (2.7.0)\n",
      "Requirement already satisfied: numpy in c:\\users\\asamai\\downloads\\boqudnhtan.github.io-main\\.conda\\lib\\site-packages (2.2.5)\n",
      "Requirement already satisfied: matplotlib in c:\\users\\asamai\\downloads\\boqudnhtan.github.io-main\\.conda\\lib\\site-packages (3.10.3)\n",
      "Requirement already satisfied: onnx in c:\\users\\asamai\\downloads\\boqudnhtan.github.io-main\\.conda\\lib\\site-packages (1.18.0)\n",
      "Requirement already satisfied: filelock in c:\\users\\asamai\\downloads\\boqudnhtan.github.io-main\\.conda\\lib\\site-packages (from torch) (3.18.0)\n",
      "Requirement already satisfied: typing-extensions>=4.10.0 in c:\\users\\asamai\\downloads\\boqudnhtan.github.io-main\\.conda\\lib\\site-packages (from torch) (4.13.2)\n",
      "Requirement already satisfied: sympy>=1.13.3 in c:\\users\\asamai\\downloads\\boqudnhtan.github.io-main\\.conda\\lib\\site-packages (from torch) (1.14.0)\n",
      "Requirement already satisfied: networkx in c:\\users\\asamai\\downloads\\boqudnhtan.github.io-main\\.conda\\lib\\site-packages (from torch) (3.4.2)\n",
      "Requirement already satisfied: jinja2 in c:\\users\\asamai\\downloads\\boqudnhtan.github.io-main\\.conda\\lib\\site-packages (from torch) (3.1.6)\n",
      "Requirement already satisfied: fsspec in c:\\users\\asamai\\downloads\\boqudnhtan.github.io-main\\.conda\\lib\\site-packages (from torch) (2025.3.2)\n",
      "Requirement already satisfied: contourpy>=1.0.1 in c:\\users\\asamai\\downloads\\boqudnhtan.github.io-main\\.conda\\lib\\site-packages (from matplotlib) (1.3.2)\n",
      "Requirement already satisfied: cycler>=0.10 in c:\\users\\asamai\\downloads\\boqudnhtan.github.io-main\\.conda\\lib\\site-packages (from matplotlib) (0.12.1)\n",
      "Requirement already satisfied: fonttools>=4.22.0 in c:\\users\\asamai\\downloads\\boqudnhtan.github.io-main\\.conda\\lib\\site-packages (from matplotlib) (4.58.0)\n",
      "Requirement already satisfied: kiwisolver>=1.3.1 in c:\\users\\asamai\\downloads\\boqudnhtan.github.io-main\\.conda\\lib\\site-packages (from matplotlib) (1.4.8)\n",
      "Requirement already satisfied: packaging>=20.0 in c:\\users\\asamai\\downloads\\boqudnhtan.github.io-main\\.conda\\lib\\site-packages (from matplotlib) (25.0)\n",
      "Requirement already satisfied: pillow>=8 in c:\\users\\asamai\\downloads\\boqudnhtan.github.io-main\\.conda\\lib\\site-packages (from matplotlib) (11.2.1)\n",
      "Requirement already satisfied: pyparsing>=2.3.1 in c:\\users\\asamai\\downloads\\boqudnhtan.github.io-main\\.conda\\lib\\site-packages (from matplotlib) (3.2.3)\n",
      "Requirement already satisfied: python-dateutil>=2.7 in c:\\users\\asamai\\downloads\\boqudnhtan.github.io-main\\.conda\\lib\\site-packages (from matplotlib) (2.9.0.post0)\n",
      "Requirement already satisfied: protobuf>=4.25.1 in c:\\users\\asamai\\downloads\\boqudnhtan.github.io-main\\.conda\\lib\\site-packages (from onnx) (6.31.0)\n",
      "Requirement already satisfied: six>=1.5 in c:\\users\\asamai\\downloads\\boqudnhtan.github.io-main\\.conda\\lib\\site-packages (from python-dateutil>=2.7->matplotlib) (1.17.0)\n",
      "Requirement already satisfied: mpmath<1.4,>=1.1.0 in c:\\users\\asamai\\downloads\\boqudnhtan.github.io-main\\.conda\\lib\\site-packages (from sympy>=1.13.3->torch) (1.3.0)\n",
      "Requirement already satisfied: MarkupSafe>=2.0 in c:\\users\\asamai\\downloads\\boqudnhtan.github.io-main\\.conda\\lib\\site-packages (from jinja2->torch) (3.0.2)\n",
      "Note: you may need to restart the kernel to use updated packages.\n"
     ]
    }
   ],
   "source": [
    "pip install torch numpy matplotlib onnx"
   ]
  },
  {
   "cell_type": "code",
   "execution_count": 2,
   "id": "1ab6fcc0",
   "metadata": {},
   "outputs": [],
   "source": [
    "import torch\n",
    "import torch.nn as nn\n",
    "import torch.optim as optim\n",
    "import random\n",
    "\n",
    "BOARD_MAX = 10\n",
    "INPUT_SIZE = BOARD_MAX * BOARD_MAX\n",
    "PADDING_VAL = -2  # for non-board cells\n",
    "\n",
    "class CaroNet(nn.Module):\n",
    "    def __init__(self):\n",
    "        super().__init__()\n",
    "        self.net = nn.Sequential(\n",
    "            nn.Linear(INPUT_SIZE, 256),\n",
    "            nn.ReLU(),\n",
    "            nn.Linear(256, 256),\n",
    "            nn.ReLU(),\n",
    "            nn.Linear(256, INPUT_SIZE)  # predict score for each cell\n",
    "        )\n",
    "\n",
    "    def forward(self, x):\n",
    "        return self.net(x)"
   ]
  },
  {
   "cell_type": "code",
   "execution_count": 3,
   "id": "d313a208",
   "metadata": {},
   "outputs": [],
   "source": [
    "def generate_sample(size):\n",
    "    board = [PADDING_VAL] * INPUT_SIZE\n",
    "    flat_board = [0] * (size * size)\n",
    "\n",
    "    # Simulate a few moves\n",
    "    num_moves = random.randint(4, (size * size) // 2)\n",
    "    player = 1  # X starts\n",
    "\n",
    "    filled = random.sample(range(size * size), num_moves)\n",
    "    for i, idx in enumerate(filled):\n",
    "        flat_board[idx] = player\n",
    "        player *= -1  # alternate turns\n",
    "\n",
    "    for i in range(size * size):\n",
    "        board[i] = flat_board[i]\n",
    "\n",
    "    empty_indices = [i for i in range(size * size) if flat_board[i] == 0]\n",
    "    if not empty_indices:\n",
    "        return board, [0.0] * INPUT_SIZE\n",
    "\n",
    "    move = random.choice(empty_indices)\n",
    "    label = [0.0] * INPUT_SIZE\n",
    "    label[move] = 1.0\n",
    "    return board, label"
   ]
  },
  {
   "cell_type": "code",
   "execution_count": 4,
   "id": "0aaf4c49",
   "metadata": {},
   "outputs": [
    {
     "name": "stdout",
     "output_type": "stream",
     "text": [
      "Epoch 1, Loss: 0.7014\n",
      "Epoch 2, Loss: 0.6583\n",
      "Epoch 3, Loss: 0.6165\n",
      "Epoch 4, Loss: 0.5691\n",
      "Epoch 5, Loss: 0.5127\n",
      "Epoch 6, Loss: 0.4472\n",
      "Epoch 7, Loss: 0.3758\n",
      "Epoch 8, Loss: 0.3044\n",
      "Epoch 9, Loss: 0.2402\n",
      "Epoch 10, Loss: 0.1891\n",
      "✅ Saved PyTorch model as caro_model.pt\n"
     ]
    }
   ],
   "source": [
    "def train_model():\n",
    "    model = CaroNet()\n",
    "    optimizer = optim.Adam(model.parameters(), lr=0.001)\n",
    "    loss_fn = nn.BCEWithLogitsLoss()\n",
    "\n",
    "    X, y = [], []\n",
    "    for _ in range(10000):\n",
    "        size = random.randint(3, 10)\n",
    "        board, label = generate_sample(size)\n",
    "        X.append(board)\n",
    "        y.append(label)\n",
    "\n",
    "    X = torch.tensor(X, dtype=torch.float32)\n",
    "    y = torch.tensor(y, dtype=torch.float32)\n",
    "\n",
    "    for epoch in range(10):\n",
    "        model.train()\n",
    "        out = model(X)\n",
    "        loss = loss_fn(out, y)\n",
    "        optimizer.zero_grad()\n",
    "        loss.backward()\n",
    "        optimizer.step()\n",
    "        print(f\"Epoch {epoch+1}, Loss: {loss.item():.4f}\")\n",
    "\n",
    "    torch.save(model.state_dict(), \"caro_model.pt\")\n",
    "    print(\"✅ Saved PyTorch model as caro_model.pt\")\n",
    "    return model\n",
    "\n",
    "model = train_model()"
   ]
  },
  {
   "cell_type": "code",
   "execution_count": 5,
   "id": "2633078b",
   "metadata": {},
   "outputs": [
    {
     "name": "stdout",
     "output_type": "stream",
     "text": [
      "✅ Exported model to caro_model.onnx\n"
     ]
    }
   ],
   "source": [
    "dummy_input = torch.randn(1, INPUT_SIZE)\n",
    "torch.onnx.export(model, dummy_input, \"caro_model.onnx\",\n",
    "                  input_names=[\"input\"], output_names=[\"output\"])\n",
    "print(\"✅ Exported model to caro_model.onnx\")"
   ]
  }
 ],
 "metadata": {
  "kernelspec": {
   "display_name": "Python 3",
   "language": "python",
   "name": "python3"
  },
  "language_info": {
   "codemirror_mode": {
    "name": "ipython",
    "version": 3
   },
   "file_extension": ".py",
   "mimetype": "text/x-python",
   "name": "python",
   "nbconvert_exporter": "python",
   "pygments_lexer": "ipython3",
   "version": "3.11.11"
  }
 },
 "nbformat": 4,
 "nbformat_minor": 5
}
